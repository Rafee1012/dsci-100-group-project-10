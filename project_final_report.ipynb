{
 "cells": [
  {
   "cell_type": "markdown",
   "id": "8538860c-813c-4346-ab57-37759f35179b",
   "metadata": {},
   "source": [
    "**DSCI 100: Project Final Report**\n",
    "===\n",
    "---"
   ]
  },
  {
   "cell_type": "markdown",
   "id": "6a030343-c2ac-40b8-a95a-1d99f15fb9e6",
   "metadata": {},
   "source": [
    "Introduction:\n",
    "---"
   ]
  },
  {
   "cell_type": "markdown",
   "id": "7146c653-df71-4080-a2c2-63614aa6c5a2",
   "metadata": {},
   "source": [
    "A research group led by Frank Wood has set up a Minecraft server to examine how people play video games. The data collected involves player characteristics and play times. Here, we ask a predictive question based on this data, to explore potential trends and relationships between players with similar traits.\n",
    "\n",
    "Specifically, we ask *\"<u>Can player age and hours played predict whether a player will subscribe to the video game newsletter?</u>\"*\n",
    "\n",
    "To do this, we use the *players.csv* dataset, which contains seven variables and 196 observations. These variables include\n",
    "* experience (chr): Player's level of in-game experience.\n",
    "* subscribe (lgl): Whether player is subscribed to the newsletter or not.    \n",
    "* hashedEmail (chr): Player's hashed email.  \n",
    "* played_hours (dbl): Player's number of hours played.  \n",
    "* name (chr): Player's name.  \n",
    "* gender (chr): Player's gender.  \n",
    "* Age (dbl): Player's age."
   ]
  },
  {
   "cell_type": "markdown",
   "id": "67b00ac7-81cd-40a3-bd16-441f641185ca",
   "metadata": {},
   "source": [
    "Methods & Results:\n",
    "---"
   ]
  },
  {
   "cell_type": "markdown",
   "id": "c0f2287f-4970-4c64-be8b-5973ce44edd0",
   "metadata": {},
   "source": [
    "* describe the methods you used to perform your analysis from beginning to end that narrates the analysis code.\n",
    "* your report should include code which:\n",
    "    - loads data\n",
    "    - wrangles and cleans the data to the format necessary for the planned analysis\n",
    "    - performs a summary of the data set that is relevant for exploratory data analysis related to the planned analysis\n",
    "    - creates a visualization of the dataset that is relevant for exploratory data analysis related to the planned analysis\n",
    "    - performs the data analysis\n",
    "    - creates a visualization of the analysis\n",
    "    - note: all figures should have a figure number and a legend"
   ]
  },
  {
   "cell_type": "markdown",
   "id": "186b34a8-92ae-4dc2-8980-c17baca66bb2",
   "metadata": {},
   "source": [
    "The data was read as a .csv file using a URL from a GitHub repository. To prepare the data for answering the predictive question, the predictors and response variables, *Age*, *played_hours*, and *subscribe*, were selected and the response variable was set to a factor *(fct)* type to be used in a classification setting.\n",
    "\n",
    "The specific question was answered with K-NN classification, as the response variable is not numeric but rather composed of two distinct values, *TRUE* and *FALSE*, meaning it is categorical.\n",
    "\n",
    "The data was split into 75% training data and 25% testing data so that it could be trained on a large portion of data and still evaluated on a considerable portion of the data. Also, the use of 5-fold cross-validation gave the model more robust data to operate on. To improve the model, a value of K that maximised the model's accuracy.\n",
    "\n",
    "With this value K and a multi-fold framework, the K-NN classification was performed. Then, the quality of the model was assessed by its metrics on the test data and the effectiveness of the model was visualised with plots of accuracy.\n",
    "\n",
    "The variables *Age* and *played_hours* were selected due to their numeric type and because it seems interesting to explore whether there is a relation between these characteristics of a player and whether or not they will subscribe to a game-related newsletter. This addresses interesting questions, such as whether different ages tend to subscribe to newsletters relating to games they like or how much a person might play before becoming involved enough in a gaming community to subscribe to a game-related newsletter.\n",
    "\n",
    "---"
   ]
  },
  {
   "cell_type": "markdown",
   "id": "d60560c2-d5d9-42a1-afc0-205a85f2ee00",
   "metadata": {},
   "source": [
    "Loading in the library for wrangling and classification and reading in the players.csv dataset."
   ]
  },
  {
   "cell_type": "code",
   "execution_count": 17,
   "id": "8f4e5f6d-8876-4953-b90a-5986c63dbe9c",
   "metadata": {},
   "outputs": [
    {
     "name": "stderr",
     "output_type": "stream",
     "text": [
      "\u001b[1mRows: \u001b[22m\u001b[34m196\u001b[39m \u001b[1mColumns: \u001b[22m\u001b[34m7\u001b[39m\n",
      "\u001b[36m──\u001b[39m \u001b[1mColumn specification\u001b[22m \u001b[36m────────────────────────────────────────────────────────\u001b[39m\n",
      "\u001b[1mDelimiter:\u001b[22m \",\"\n",
      "\u001b[31mchr\u001b[39m (4): experience, hashedEmail, name, gender\n",
      "\u001b[32mdbl\u001b[39m (2): played_hours, Age\n",
      "\u001b[33mlgl\u001b[39m (1): subscribe\n",
      "\n",
      "\u001b[36mℹ\u001b[39m Use `spec()` to retrieve the full column specification for this data.\n",
      "\u001b[36mℹ\u001b[39m Specify the column types or set `show_col_types = FALSE` to quiet this message.\n"
     ]
    }
   ],
   "source": [
    "library(tidyverse)\n",
    "players_url <- \"https://raw.githubusercontent.com/Rafee1012/dsci-100-group-project-10/refs/heads/main/players%20(3).csv\"\n",
    "players <- read_csv(players_url)"
   ]
  },
  {
   "cell_type": "markdown",
   "id": "688ae288-42df-44cf-a450-5940af03a3c8",
   "metadata": {},
   "source": [
    "Wrangling data into a necessary format for answering the predictive question."
   ]
  },
  {
   "cell_type": "code",
   "execution_count": 18,
   "id": "bd825034-5c37-4c6f-a2f1-c35d582b6be8",
   "metadata": {},
   "outputs": [],
   "source": [
    "players <- players |>\n",
    "    select(Age, played_hours, subscribe) |>\n",
    "    mutate(subscribe = as_factor(subscribe))"
   ]
  },
  {
   "cell_type": "markdown",
   "id": "d7bbcc8b-52ab-4eb9-9926-face39e0b36d",
   "metadata": {},
   "source": [
    "Summarising data relevant for planned analysis. (EXPLAIN THE PREDICTORS OF CHOICE AND THE RESPONSE VARIABLE + PERFORM SUMMARY STATISTICS)."
   ]
  },
  {
   "cell_type": "code",
   "execution_count": null,
   "id": "9ecb0da7-b034-47de-9516-871b36430f81",
   "metadata": {},
   "outputs": [],
   "source": []
  },
  {
   "cell_type": "markdown",
   "id": "c6568203-2971-4cfc-acf5-1b306997e053",
   "metadata": {},
   "source": [
    "Visualising data relevant for planned analysis."
   ]
  },
  {
   "cell_type": "code",
   "execution_count": null,
   "id": "b7909561-08bd-4ffe-bb17-204936820dac",
   "metadata": {},
   "outputs": [],
   "source": []
  },
  {
   "cell_type": "markdown",
   "id": "e4b8a5be-7426-4b5b-a24f-e88837cd9826",
   "metadata": {},
   "source": [
    "Performing K-NN classification to answer the predictive question. (SPLIT DATA, PERFORM TUNING AND VISUALISE BEST K VALUE, 5-FOLD CROSS VALIDATION, EVALUATING USE METRICS AND VISUALISE EVALUATION)."
   ]
  },
  {
   "cell_type": "code",
   "execution_count": null,
   "id": "968c65de-ab4c-442d-a252-d843072cd359",
   "metadata": {},
   "outputs": [],
   "source": []
  },
  {
   "cell_type": "markdown",
   "id": "ec9b1745-8636-4558-b3b7-a17b850af14b",
   "metadata": {},
   "source": [
    "Visualising data analysis of K-NN classification."
   ]
  },
  {
   "cell_type": "code",
   "execution_count": null,
   "id": "2ed6ffa4-8da3-46dd-a967-b14a98ba490a",
   "metadata": {},
   "outputs": [],
   "source": []
  },
  {
   "cell_type": "markdown",
   "id": "7ed8c6df-29fe-431e-bc74-ed7be561d753",
   "metadata": {},
   "source": [
    "Discussion:\n",
    "---\n",
    "* summarize what you found\n",
    "* discuss whether this is what you expected to find?\n",
    "* discuss what impact could such findings have?\n",
    "* discuss what future questions could this lead to?"
   ]
  },
  {
   "cell_type": "markdown",
   "id": "3d7f4d7e-2193-435a-99bb-c83f2bcece75",
   "metadata": {},
   "source": [
    "References:\n",
    "---\n",
    "* You may include references if necessary, as long as they all have a consistent citation style."
   ]
  },
  {
   "cell_type": "code",
   "execution_count": null,
   "id": "f7037680-787c-4834-99b4-e487676abae7",
   "metadata": {},
   "outputs": [],
   "source": []
  }
 ],
 "metadata": {
  "kernelspec": {
   "display_name": "R",
   "language": "R",
   "name": "ir"
  },
  "language_info": {
   "codemirror_mode": "r",
   "file_extension": ".r",
   "mimetype": "text/x-r-source",
   "name": "R",
   "pygments_lexer": "r",
   "version": "4.3.3"
  }
 },
 "nbformat": 4,
 "nbformat_minor": 5
}
